{
 "cells": [
  {
   "cell_type": "markdown",
   "metadata": {},
   "source": [
    "# Lab 1 - Python introduction\n"
   ]
  },
  {
   "cell_type": "markdown",
   "metadata": {},
   "source": [
    "### Exercise 0 - Example\n",
    "Assign the number 31 to a new variable, q. Write an expression that raises q to the 4th power "
   ]
  },
  {
   "cell_type": "code",
   "execution_count": 67,
   "metadata": {},
   "outputs": [
    {
     "data": {
      "text/plain": [
       "923521"
      ]
     },
     "execution_count": 67,
     "metadata": {},
     "output_type": "execute_result"
    }
   ],
   "source": [
    "# Your answer here\n",
    "q = 31\n",
    "q**4"
   ]
  },
  {
   "cell_type": "markdown",
   "metadata": {},
   "source": [
    "### Exercise 1\n",
    "Create arbitrary list, tuple and dictionary and print them"
   ]
  },
  {
   "cell_type": "code",
   "execution_count": 1,
   "metadata": {},
   "outputs": [
    {
     "name": "stdout",
     "output_type": "stream",
     "text": [
      "['e', 'x', 'e', 'r', 'c', 'i', 's', 'e', ' ', '1']\n",
      "('e', 'x', 'e', 'r', 'c', 'i', 's', 'e', ' ', '1')\n",
      "{1: 1, 2: 2, 3: 3}\n"
     ]
    }
   ],
   "source": [
    "# Your answer here\n",
    "a = list('exercise 1')\n",
    "b = tuple('exercise 1')\n",
    "c = dict([(1,1),(2,2),(3,3)])\n",
    "print(a)\n",
    "print(b)\n",
    "print(c)"
   ]
  },
  {
   "cell_type": "markdown",
   "metadata": {},
   "source": [
    "### Exercise 2\n",
    "Print the next elements of array s: 10th, from 10 to 20, all elements more than 0 "
   ]
  },
  {
   "cell_type": "code",
   "execution_count": 2,
   "metadata": {},
   "outputs": [
    {
     "name": "stdout",
     "output_type": "stream",
     "text": [
      "1.6421988824365625\n",
      "[ 1.64219888  1.18225535  0.50115505 -0.84542689 -1.93822351  0.48726157\n",
      " -1.55903514  0.92402009  0.04726513 -0.34659812  0.25924074]\n",
      "[0.6337238574839952, 0.4532792451491742, 2.092187753716978, 0.8759159272529696, 0.6007675985403925, 0.31930199556190086, 1.6421988824365625, 1.1822553489743242, 0.5011550525248625, 0.4872615667760059, 0.9240200928189125, 0.04726512514391351, 0.25924074145732606, 0.07799142616759391, 0.5263504909489535, 0.4123232007407716, 0.4657908956256258, 0.10071646983201268, 0.9881416890368774, 0.980979480784894, 1.0630040432604428, 0.5280968929129727, 1.059828788425596, 0.6413433136979252, 2.3491909562507036, 0.12407179395968933, 1.3290193956992318, 2.003622708996265, 0.6436945499764701, 0.9164156198141119, 0.5705482856484201, 0.6655954856943503, 0.4204921945102511, 1.2582034361474561, 0.13453345926260726, 0.7558980414060855, 0.23935512113666613, 1.008574264399744, 0.778663850151763, 1.197937631764547, 1.3293776446267402, 0.3785593255271492, 0.6319089044897743, 0.3438756525866889, 0.5513461986534263, 1.8492442232764805]\n"
     ]
    }
   ],
   "source": [
    "import numpy as np\n",
    "s = np.random.normal(0,1,100)\n",
    "\n",
    "import numpy as np\n",
    "s = np.random.normal(0,1,100)\n",
    "print(s[10])\n",
    "print(s[10:21])\n",
    "x = [x for x in s if x>0]\n",
    "print(x)\n"
   ]
  },
  {
   "cell_type": "markdown",
   "metadata": {},
   "source": [
    "### Exercise 3\n",
    "Make a function `pow` that raised base `number` to a fixed power `power`. If `power >= 50` print message \"power is too big\" and return `-1`"
   ]
  },
  {
   "cell_type": "code",
   "execution_count": 3,
   "metadata": {},
   "outputs": [
    {
     "name": "stdout",
     "output_type": "stream",
     "text": [
      "power is too big\n",
      "-1\n",
      "20\n"
     ]
    }
   ],
   "source": [
    "def pow(number, power):\n",
    "    if power>=50:\n",
    "        print(\"power is too big\")\n",
    "        return -1\n",
    "    else:\n",
    "        number = power\n",
    "        return number\n",
    "print(pow(4, 50))\n",
    "print(pow(4, 20))\n"
   ]
  },
  {
   "cell_type": "markdown",
   "metadata": {},
   "source": [
    "### Exercise 4\n",
    "Make a function `above(x,n)` which returns all elements `x > n`. By default `x = 10`. Use numpy arrays"
   ]
  },
  {
   "cell_type": "code",
   "execution_count": 5,
   "metadata": {},
   "outputs": [
    {
     "name": "stdout",
     "output_type": "stream",
     "text": [
      "[4, 5]\n"
     ]
    }
   ],
   "source": [
    "import numpy as np\n",
    "# Your answer here\n",
    "def above(n, x = 10):\n",
    "    result = []\n",
    "    for i in x:\n",
    "        if i > n:\n",
    "            result.append(i)\n",
    "        else:\n",
    "            continue\n",
    "    return result\n",
    "print(above(3, [1,2,3,4,5]))"
   ]
  },
  {
   "cell_type": "markdown",
   "metadata": {},
   "source": [
    "### Exercise 5\n",
    "Write a function `my_ifelse(x, exp, n)` which test array `x` with expression `exp` to number `n`. For instance, `my_ifelse(x,'>=',10)` returns all elements of array `x` which greater or equal 10. `exp` can be `<`, `>`, `<=`, `>=`, `==`. If `exp` dont match these expression array `x` is retured"
   ]
  },
  {
   "cell_type": "code",
   "execution_count": 6,
   "metadata": {},
   "outputs": [
    {
     "name": "stdout",
     "output_type": "stream",
     "text": [
      "[3]\n",
      "[3, 4, 5]\n",
      "[1, 2, 3]\n",
      "[4, 5]\n",
      "[1, 2]\n",
      "[1, 2, 3, 4, 5]\n"
     ]
    }
   ],
   "source": [
    "import numpy as np\n",
    "\n",
    "def my_ifelse(x, exp, n):\n",
    "    if exp == '==':\n",
    "        x = [i for i in x if i == n]\n",
    "        return x\n",
    "    elif exp == '<':\n",
    "        x = [i for i in x if i < n]\n",
    "        return x\n",
    "    elif exp == '>':\n",
    "        x = [i for i in x if i > n]\n",
    "        return x\n",
    "    elif exp == '<=':\n",
    "        x = [i for i in x if i <= n]\n",
    "        return x\n",
    "    elif exp == '>=':\n",
    "        x = [i for i in x if i >= n]\n",
    "        return x\n",
    "    else:\n",
    "        return x\n",
    "\n",
    "x = [1, 2, 3, 4, 5]\n",
    "\n",
    "print(my_ifelse(x,'==', 3))\n",
    "print(my_ifelse(x,'>=', 3))\n",
    "print(my_ifelse(x,'<=', 3))\n",
    "print(my_ifelse(x,'>', 3))\n",
    "print(my_ifelse(x,'<', 3))\n",
    "print(my_ifelse(x,'a', 3))"
   ]
  },
  {
   "cell_type": "markdown",
   "metadata": {},
   "source": [
    "### Exercise 6\n",
    "Make a function called `counter` that takes a string input_string and returns a dictionary of letter counts."
   ]
  },
  {
   "cell_type": "code",
   "execution_count": 7,
   "metadata": {},
   "outputs": [
    {
     "name": "stdout",
     "output_type": "stream",
     "text": [
      "{'d': 1, 's': 5, 'k': 11, 'j': 11, 'a': 5, 'g': 3, ' ': 1, 'f': 2}\n"
     ]
    }
   ],
   "source": [
    "def counter (input_string):\n",
    "    count_letters = {}\n",
    "    for letter in input_string:\n",
    "        if letter in count_letters:\n",
    "                count_letters[letter] += 1\n",
    "        else:\n",
    "            count_letters[letter] = 1\n",
    "    return count_letters\n",
    "print(counter('dskjakjgskjkjskjagksjkjgakj asfkjkjafkj'))\n"
   ]
  },
  {
   "cell_type": "markdown",
   "metadata": {},
   "source": [
    "### Exercise 7\n",
    "From the function `counter` make function `counter_sorted` with second boolean argumens `reverse` that returns sorted letter counts. Order depends of the `reverse` argument. By default `reverse = False`"
   ]
  },
  {
   "cell_type": "code",
   "execution_count": 8,
   "metadata": {},
   "outputs": [
    {
     "name": "stdout",
     "output_type": "stream",
     "text": [
      "{'d': 1, ' ': 1, 'f': 2, 'g': 3, 's': 5, 'a': 5, 'k': 11, 'j': 11}\n"
     ]
    }
   ],
   "source": [
    "def counter_sorted (input_string, r):\n",
    "    count_letters = {}\n",
    "    for letter in input_string:\n",
    "        if letter in count_letters:\n",
    "                count_letters[letter] += 1\n",
    "        else:\n",
    "            count_letters[letter] = 1\n",
    "    return dict(sorted(count_letters.items(), key=lambda x: x[1], reverse=r))\n",
    "print(counter_sorted('dskjakjgskjkjskjagksjkjgakj asfkjkjafkj', 0))"
   ]
  },
  {
   "cell_type": "code",
   "execution_count": null,
   "metadata": {},
   "outputs": [],
   "source": []
  }
 ],
 "metadata": {
  "kernelspec": {
   "display_name": "Python 3",
   "language": "python",
   "name": "python3"
  },
  "language_info": {
   "codemirror_mode": {
    "name": "ipython",
    "version": 3
   },
   "file_extension": ".py",
   "mimetype": "text/x-python",
   "name": "python",
   "nbconvert_exporter": "python",
   "pygments_lexer": "ipython3",
   "version": "3.8.1"
  }
 },
 "nbformat": 4,
 "nbformat_minor": 2
}
